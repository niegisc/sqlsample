{
  "nbformat": 4,
  "nbformat_minor": 0,
  "metadata": {
    "colab": {
      "name": "Relational Database Project.ipynb",
      "provenance": [],
      "authorship_tag": "ABX9TyNc1y8PC9CxJZQk5rmPZkUK",
      "include_colab_link": true
    },
    "kernelspec": {
      "name": "python3",
      "display_name": "Python 3"
    },
    "language_info": {
      "name": "python"
    }
  },
  "cells": [
    {
      "cell_type": "markdown",
      "metadata": {
        "id": "view-in-github",
        "colab_type": "text"
      },
      "source": [
        "<a href=\"https://colab.research.google.com/github/niegisc/sqlsample/blob/main/Relational_Database_Project.ipynb\" target=\"_parent\"><img src=\"https://colab.research.google.com/assets/colab-badge.svg\" alt=\"Open In Colab\"/></a>"
      ]
    },
    {
      "cell_type": "markdown",
      "source": [
        "Member 1: \n",
        "\n",
        "Member 2: "
      ],
      "metadata": {
        "id": "OuvJyzGyTI7k"
      }
    },
    {
      "cell_type": "markdown",
      "source": [
        "Design and implement a >1 table relational database project with Python and SQLite.\n",
        "\n",
        "Your project should perform the standard CRUD operations plus at least 1 aggregation function."
      ],
      "metadata": {
        "id": "FM2c8c3oJdvj"
      }
    },
    {
      "cell_type": "markdown",
      "source": [
        "Task: (self proposed eg manage a contact list)"
      ],
      "metadata": {
        "id": "dO6hC3LjJqel"
      }
    },
    {
      "cell_type": "markdown",
      "source": [
        "ER-diagram: \n"
      ],
      "metadata": {
        "id": "5Veo7Vk0STKz"
      }
    },
    {
      "cell_type": "markdown",
      "source": [
        "Table specification:\n",
        "- students(sid&, sname)\n",
        "\n",
        "& primary key\n",
        "^ foreign key"
      ],
      "metadata": {
        "id": "LG2rJnQ-SZBs"
      }
    },
    {
      "cell_type": "markdown",
      "source": [
        "Python implementation:"
      ],
      "metadata": {
        "id": "oHstg8OTSgMC"
      }
    },
    {
      "cell_type": "code",
      "source": [
        "# program menu\n"
      ],
      "metadata": {
        "id": "WD23sfDQSmKI"
      },
      "execution_count": null,
      "outputs": []
    },
    {
      "cell_type": "code",
      "execution_count": null,
      "metadata": {
        "id": "lTsUZbGiFWBo",
        "colab": {
          "base_uri": "https://localhost:8080/"
        },
        "outputId": "5b388d08-e128-4332-a590-c15f4333cb61"
      },
      "outputs": [
        {
          "output_type": "stream",
          "name": "stdout",
          "text": [
            "Choir\n",
            "Track\n",
            "Basketball\n",
            "Volleyball\n",
            "Robotics\n",
            "Infocomm Club\n"
          ]
        }
      ],
      "source": [
        "import sqlite3\n",
        "\n",
        "# create database connection\n",
        "connection = sqlite3.connect(\"school.db\")\n",
        "\n",
        "# create cursor\n",
        "cursor = connection.cursor()\n",
        "\n",
        "# execute SQL query\n",
        "#cursor.execute(\"DELETE FROM ccas WHERE cid = 7\")\n",
        "cursor.execute(\"SELECT * FROM ccas;\")\n",
        "\n",
        "results = cursor.fetchall()\n",
        "\n",
        "for record in results:\n",
        "    print(record[1])\n",
        "\n",
        "# make changes permanent\n",
        "connection.commit()\n",
        "\n",
        "# destroy database connection (and cursor)\n",
        "connection.close()"
      ]
    },
    {
      "cell_type": "markdown",
      "source": [
        "Sample SQL queries:\n",
        "```\n",
        "# create table \n",
        "cursor.execute(\"CREATE TABLE IF NOT EXISTS contacts (rid INTEGER, name TEXT, dob TEXT, email TEXT, mobile TEXT);\")\n",
        " \n",
        "# insert\n",
        "cursor.execute(\"INSERT INTO contacts (rid, name, dob, email, mobile) VALUES (1, 'Lim Ah Seng', '1995-01-01', 'limahseng@hotmail.com', '12345678');\")\n",
        "\n",
        "\n",
        "# select\n",
        "cursor.execute(\"SELECT * FROM contacts;\")\n",
        "\n",
        "# update\n",
        "cursor.execute(\"UPDATE contacts SET mobile = '88888888' WHERE rid = 1;\")\n",
        "\n",
        "# delete\n",
        "cursor.execute(\"DELETE FROM contacts WHERE rid = 2;\")\n",
        "```"
      ],
      "metadata": {
        "id": "e9lu_ZQtLDaF"
      }
    }
  ]
}